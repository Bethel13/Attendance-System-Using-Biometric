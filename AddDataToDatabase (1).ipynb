{
 "cells": [
  {
   "cell_type": "code",
   "execution_count": 3,
   "id": "ff645937-2f20-4879-afb9-0d0230673eb5",
   "metadata": {},
   "outputs": [
    {
     "name": "stdout",
     "output_type": "stream",
     "text": [
      "Requirement already satisfied: firebase-admin in c:\\users\\hp\\anaconda3\\lib\\site-packages (6.6.0)\n",
      "Requirement already satisfied: cachecontrol>=0.12.14 in c:\\users\\hp\\anaconda3\\lib\\site-packages (from firebase-admin) (0.14.2)\n",
      "Requirement already satisfied: google-api-python-client>=1.7.8 in c:\\users\\hp\\anaconda3\\lib\\site-packages (from firebase-admin) (2.158.0)\n",
      "Requirement already satisfied: google-cloud-storage>=1.37.1 in c:\\users\\hp\\anaconda3\\lib\\site-packages (from firebase-admin) (2.19.0)\n",
      "Requirement already satisfied: pyjwt>=2.5.0 in c:\\users\\hp\\anaconda3\\lib\\site-packages (from pyjwt[crypto]>=2.5.0->firebase-admin) (2.10.1)\n",
      "Requirement already satisfied: google-api-core<3.0.0dev,>=1.22.1 in c:\\users\\hp\\anaconda3\\lib\\site-packages (from google-api-core[grpc]<3.0.0dev,>=1.22.1; platform_python_implementation != \"PyPy\"->firebase-admin) (2.24.0)\n",
      "Requirement already satisfied: google-cloud-firestore>=2.19.0 in c:\\users\\hp\\anaconda3\\lib\\site-packages (from firebase-admin) (2.20.0)\n",
      "Requirement already satisfied: requests>=2.16.0 in c:\\users\\hp\\anaconda3\\lib\\site-packages (from cachecontrol>=0.12.14->firebase-admin) (2.31.0)\n",
      "Requirement already satisfied: msgpack<2.0.0,>=0.5.2 in c:\\users\\hp\\anaconda3\\lib\\site-packages (from cachecontrol>=0.12.14->firebase-admin) (1.0.3)\n",
      "Requirement already satisfied: googleapis-common-protos<2.0.dev0,>=1.56.2 in c:\\users\\hp\\anaconda3\\lib\\site-packages (from google-api-core<3.0.0dev,>=1.22.1->google-api-core[grpc]<3.0.0dev,>=1.22.1; platform_python_implementation != \"PyPy\"->firebase-admin) (1.66.0)\n",
      "Requirement already satisfied: protobuf!=3.20.0,!=3.20.1,!=4.21.0,!=4.21.1,!=4.21.2,!=4.21.3,!=4.21.4,!=4.21.5,<6.0.0.dev0,>=3.19.5 in c:\\users\\hp\\anaconda3\\lib\\site-packages (from google-api-core<3.0.0dev,>=1.22.1->google-api-core[grpc]<3.0.0dev,>=1.22.1; platform_python_implementation != \"PyPy\"->firebase-admin) (5.29.3)\n",
      "Requirement already satisfied: proto-plus<2.0.0dev,>=1.22.3 in c:\\users\\hp\\anaconda3\\lib\\site-packages (from google-api-core<3.0.0dev,>=1.22.1->google-api-core[grpc]<3.0.0dev,>=1.22.1; platform_python_implementation != \"PyPy\"->firebase-admin) (1.25.0)\n",
      "Requirement already satisfied: google-auth<3.0.dev0,>=2.14.1 in c:\\users\\hp\\anaconda3\\lib\\site-packages (from google-api-core<3.0.0dev,>=1.22.1->google-api-core[grpc]<3.0.0dev,>=1.22.1; platform_python_implementation != \"PyPy\"->firebase-admin) (2.37.0)\n",
      "Requirement already satisfied: grpcio<2.0dev,>=1.33.2 in c:\\users\\hp\\anaconda3\\lib\\site-packages (from google-api-core[grpc]<3.0.0dev,>=1.22.1; platform_python_implementation != \"PyPy\"->firebase-admin) (1.69.0)\n",
      "Requirement already satisfied: grpcio-status<2.0.dev0,>=1.33.2 in c:\\users\\hp\\anaconda3\\lib\\site-packages (from google-api-core[grpc]<3.0.0dev,>=1.22.1; platform_python_implementation != \"PyPy\"->firebase-admin) (1.69.0)\n",
      "Requirement already satisfied: httplib2<1.dev0,>=0.19.0 in c:\\users\\hp\\anaconda3\\lib\\site-packages (from google-api-python-client>=1.7.8->firebase-admin) (0.22.0)\n",
      "Requirement already satisfied: google-auth-httplib2<1.0.0,>=0.2.0 in c:\\users\\hp\\anaconda3\\lib\\site-packages (from google-api-python-client>=1.7.8->firebase-admin) (0.2.0)\n",
      "Requirement already satisfied: uritemplate<5,>=3.0.1 in c:\\users\\hp\\anaconda3\\lib\\site-packages (from google-api-python-client>=1.7.8->firebase-admin) (4.1.1)\n",
      "Requirement already satisfied: google-cloud-core<3.0.0dev,>=1.4.1 in c:\\users\\hp\\anaconda3\\lib\\site-packages (from google-cloud-firestore>=2.19.0->firebase-admin) (2.4.1)\n",
      "Requirement already satisfied: google-resumable-media>=2.7.2 in c:\\users\\hp\\anaconda3\\lib\\site-packages (from google-cloud-storage>=1.37.1->firebase-admin) (2.7.2)\n",
      "Requirement already satisfied: google-crc32c<2.0dev,>=1.0 in c:\\users\\hp\\anaconda3\\lib\\site-packages (from google-cloud-storage>=1.37.1->firebase-admin) (1.6.0)\n",
      "Requirement already satisfied: cryptography>=3.4.0 in c:\\users\\hp\\anaconda3\\lib\\site-packages (from pyjwt[crypto]>=2.5.0->firebase-admin) (42.0.2)\n",
      "Requirement already satisfied: cffi>=1.12 in c:\\users\\hp\\anaconda3\\lib\\site-packages (from cryptography>=3.4.0->pyjwt[crypto]>=2.5.0->firebase-admin) (1.16.0)\n",
      "Requirement already satisfied: cachetools<6.0,>=2.0.0 in c:\\users\\hp\\anaconda3\\lib\\site-packages (from google-auth<3.0.dev0,>=2.14.1->google-api-core<3.0.0dev,>=1.22.1->google-api-core[grpc]<3.0.0dev,>=1.22.1; platform_python_implementation != \"PyPy\"->firebase-admin) (4.2.2)\n",
      "Requirement already satisfied: pyasn1-modules>=0.2.1 in c:\\users\\hp\\anaconda3\\lib\\site-packages (from google-auth<3.0.dev0,>=2.14.1->google-api-core<3.0.0dev,>=1.22.1->google-api-core[grpc]<3.0.0dev,>=1.22.1; platform_python_implementation != \"PyPy\"->firebase-admin) (0.2.8)\n",
      "Requirement already satisfied: rsa<5,>=3.1.4 in c:\\users\\hp\\anaconda3\\lib\\site-packages (from google-auth<3.0.dev0,>=2.14.1->google-api-core<3.0.0dev,>=1.22.1->google-api-core[grpc]<3.0.0dev,>=1.22.1; platform_python_implementation != \"PyPy\"->firebase-admin) (4.9)\n",
      "Requirement already satisfied: pyparsing!=3.0.0,!=3.0.1,!=3.0.2,!=3.0.3,<4,>=2.4.2 in c:\\users\\hp\\anaconda3\\lib\\site-packages (from httplib2<1.dev0,>=0.19.0->google-api-python-client>=1.7.8->firebase-admin) (3.0.9)\n",
      "Requirement already satisfied: charset-normalizer<4,>=2 in c:\\users\\hp\\anaconda3\\lib\\site-packages (from requests>=2.16.0->cachecontrol>=0.12.14->firebase-admin) (2.0.4)\n",
      "Requirement already satisfied: idna<4,>=2.5 in c:\\users\\hp\\anaconda3\\lib\\site-packages (from requests>=2.16.0->cachecontrol>=0.12.14->firebase-admin) (3.4)\n",
      "Requirement already satisfied: urllib3<3,>=1.21.1 in c:\\users\\hp\\anaconda3\\lib\\site-packages (from requests>=2.16.0->cachecontrol>=0.12.14->firebase-admin) (2.0.7)\n",
      "Requirement already satisfied: certifi>=2017.4.17 in c:\\users\\hp\\anaconda3\\lib\\site-packages (from requests>=2.16.0->cachecontrol>=0.12.14->firebase-admin) (2024.2.2)\n",
      "Requirement already satisfied: pycparser in c:\\users\\hp\\anaconda3\\lib\\site-packages (from cffi>=1.12->cryptography>=3.4.0->pyjwt[crypto]>=2.5.0->firebase-admin) (2.21)\n",
      "Requirement already satisfied: pyasn1<0.5.0,>=0.4.6 in c:\\users\\hp\\anaconda3\\lib\\site-packages (from pyasn1-modules>=0.2.1->google-auth<3.0.dev0,>=2.14.1->google-api-core<3.0.0dev,>=1.22.1->google-api-core[grpc]<3.0.0dev,>=1.22.1; platform_python_implementation != \"PyPy\"->firebase-admin) (0.4.8)\n"
     ]
    }
   ],
   "source": [
    "!pip install firebase-admin"
   ]
  },
  {
   "cell_type": "code",
   "execution_count": 31,
   "id": "f79a7815-37c2-4b57-9f8a-d9e087da4ea0",
   "metadata": {},
   "outputs": [],
   "source": [
    "import firebase_admin\n",
    "from firebase_admin import credentials\n",
    "from firebase_admin import db\n",
    "\n",
    "# Initialize the app with a unique name\n",
    "cred = credentials.Certificate(r'C:\\Users\\HP\\Desktop\\REALTIME\\serviceAccountKey.json')\n",
    "firebase_admin.initialize_app(cred, {\n",
    "    'databaseURL': \"https://faceattendancerealtime-527cb-default-rtdb.firebaseio.com/\"\n",
    "}, name='RealTimeFaceRecognition6')\n",
    "\n",
    "# Reference the 'Students' node in the database\n",
    "ref = db.reference('Students', app=firebase_admin.get_app('RealTimeFaceRecognition6'))\n",
    "\n",
    "# Data to be added\n",
    "data = {\n",
    "    \"2020_240923\": {\n",
    "        \"name\": \"Bill Gates\",\n",
    "        \"major\": \"Software Engineering\",\n",
    "        \"starting year\": 2020,\n",
    "        \"total_attendance\": 8,\n",
    "        \"standing\": \"Good\",\n",
    "        \"year\": 4,\n",
    "        \"last_attendance_time\": \"2025-01-15 17:47:34\"\n",
    "    },\n",
    "    \"2020_241098\": {\n",
    "        \"name\": \"Nwokocha Bethel Dan\",\n",
    "        \"major\": \"Computer Science\",\n",
    "        \"starting year\": 2020,\n",
    "        \"total_attendance\": 9,\n",
    "        \"standing\": \"Good\",\n",
    "        \"year\": 4,\n",
    "        \"last_attendance_time\": \"2025-01-15 17:47:34\"\n",
    "    },\n",
    "    \"2020_241201\": {\n",
    "        \"name\": \"Oprah Winfrey\",\n",
    "        \"major\": \"Computer Science\",\n",
    "        \"starting year\": 2020,\n",
    "        \"total_attendance\": 12,\n",
    "        \"standing\": \"Good\",\n",
    "        \"year\": 4,\n",
    "        \"last_attendance_time\": \"2025-01-15 17:47:34\"\n",
    "    },\n",
    "    \"2020_241234\": {\n",
    "        \"name\": \"Omar Marmoush\",\n",
    "        \"major\": \"Software Engineering\",\n",
    "        \"starting year\": 2020,\n",
    "        \"total_attendance\": 2,\n",
    "        \"standing\": \"Bad\",\n",
    "        \"year\": 4,\n",
    "        \"last_attendance_time\": \"2025-01-15 17:47:34\"\n",
    "    }\n",
    "}\n",
    "\n",
    "# Update the database\n",
    "for key, value in data.items():\n",
    "    ref.child(key).set(value)\n"
   ]
  },
  {
   "cell_type": "code",
   "execution_count": null,
   "id": "06ba2893-e61c-4d17-80ad-308846d4dcfe",
   "metadata": {},
   "outputs": [],
   "source": []
  }
 ],
 "metadata": {
  "kernelspec": {
   "display_name": "Python 3 (ipykernel)",
   "language": "python",
   "name": "python3"
  },
  "language_info": {
   "codemirror_mode": {
    "name": "ipython",
    "version": 3
   },
   "file_extension": ".py",
   "mimetype": "text/x-python",
   "name": "python",
   "nbconvert_exporter": "python",
   "pygments_lexer": "ipython3",
   "version": "3.11.7"
  }
 },
 "nbformat": 4,
 "nbformat_minor": 5
}
